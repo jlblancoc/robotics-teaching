{
 "cells": [
  {
   "cell_type": "markdown",
   "metadata": {},
   "source": [
    "2D rotation matrix\n",
    "================\n",
    "\n",
    "Rotating a 2D vector $\\mathbf{p}_l=(x',y')$ given in a **local** frame of reference O' to obtain its **global** coordinates $\\mathbf{p}_g=(x,y)$ in the frame O is done as:\n",
    "\n",
    "\\begin{align}\n",
    "x &= x' \\cos(\\alpha) - y' \\sin(\\alpha) \\\\\n",
    "y &= x' \\sin(\\alpha) + y' \\cos(\\alpha)\n",
    "\\end{align}\n",
    "\n",
    "where $\\alpha$ is the angle (positive=CCW direction) **from** the global frame O **to** the local frame O'.\n"
   ]
  }
 ],
 "metadata": {
  "kernelspec": {
   "display_name": "Python 3",
   "language": "python",
   "name": "python3"
  },
  "language_info": {
   "codemirror_mode": {
    "name": "ipython",
    "version": 3
   },
   "file_extension": ".py",
   "mimetype": "text/x-python",
   "name": "python",
   "nbconvert_exporter": "python",
   "pygments_lexer": "ipython3",
   "version": "3.8.5"
  }
 },
 "nbformat": 4,
 "nbformat_minor": 4
}
